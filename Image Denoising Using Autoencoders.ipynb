{
 "cells": [
  {
   "cell_type": "markdown",
   "id": "c746a082",
   "metadata": {},
   "source": [
    "## Import necessary libraries"
   ]
  },
  {
   "cell_type": "code",
   "execution_count": 1,
   "id": "9cc1e52d",
   "metadata": {},
   "outputs": [],
   "source": [
    "import numpy as np\n",
    "import pandas as pd\n",
    "import seaborn as sns\n",
    "import matplotlib.pyplot as plt\n",
    "from sklearn.model_selection import train_test_split\n",
    "from sklearn.metrics import accuracy_score,confusion_matrix,classification_report"
   ]
  },
  {
   "cell_type": "code",
   "execution_count": 2,
   "id": "bfdfc8b7",
   "metadata": {},
   "outputs": [],
   "source": [
    "from tensorflow import keras\n",
    "from keras.models import Sequential,Model\n",
    "from keras.layers import Dense,Conv2D,MaxPool2D,UpSampling2D,Input,BatchNormalization\n",
    "from keras.datasets import mnist"
   ]
  },
  {
   "cell_type": "markdown",
   "id": "21cc4a71",
   "metadata": {},
   "source": [
    "## Loading data"
   ]
  },
  {
   "cell_type": "code",
   "execution_count": 3,
   "id": "d8ea5c22",
   "metadata": {},
   "outputs": [],
   "source": [
    "(x_train,y_train),(x_test,y_test)=mnist.load_data()"
   ]
  },
  {
   "cell_type": "code",
   "execution_count": 4,
   "id": "bf86d862",
   "metadata": {},
   "outputs": [
    {
     "data": {
      "text/plain": [
       "((60000, 28, 28), (10000, 28, 28), (60000,), (10000,))"
      ]
     },
     "execution_count": 4,
     "metadata": {},
     "output_type": "execute_result"
    }
   ],
   "source": [
    "x_train.shape,x_test.shape,y_train.shape,y_test.shape"
   ]
  },
  {
   "cell_type": "markdown",
   "id": "1e9dae6f",
   "metadata": {},
   "source": [
    "## Plotting loaded data"
   ]
  },
  {
   "cell_type": "code",
   "execution_count": 5,
   "id": "8a511c36",
   "metadata": {},
   "outputs": [
    {
     "data": {
      "text/plain": [
       "<matplotlib.image.AxesImage at 0x269b8ae7220>"
      ]
     },
     "execution_count": 5,
     "metadata": {},
     "output_type": "execute_result"
    },
    {
     "data": {
      "image/png": "[encoded data removed]",
      "text/plain": [
       "<Figure size 640x480 with 2 Axes>"
      ]
     },
     "metadata": {},
     "output_type": "display_data"
    }
   ],
   "source": [
    "plt.subplot(2,2,1)\n",
    "plt.imshow(x_train[1],cmap='gray')\n",
    "plt.subplot(2,2,2)\n",
    "plt.imshow(x_test[1],cmap='gray')"
   ]
  },
  {
   "cell_type": "markdown",
   "id": "4e1dc3bc",
   "metadata": {},
   "source": [
    "## Normalization"
   ]
  },
  {
   "cell_type": "code",
   "execution_count": 6,
   "id": "ec0749d9",
   "metadata": {},
   "outputs": [],
   "source": [
    "x_train=x_train/255.0\n",
    "x_test=x_test/255.0"
   ]
  },
  {
   "cell_type": "code",
   "execution_count": 7,
   "id": "c4faede5",
   "metadata": {},
   "outputs": [
    {
     "data": {
      "text/plain": [
       "((60000, 28, 28), (10000, 28, 28))"
      ]
     },
     "execution_count": 7,
     "metadata": {},
     "output_type": "execute_result"
    }
   ],
   "source": [
    "x_train.shape,x_test.shape"
   ]
  },
  {
   "cell_type": "markdown",
   "id": "3338a347",
   "metadata": {},
   "source": [
    "## Adding noise to our data"
   ]
  },
  {
   "cell_type": "code",
   "execution_count": 8,
   "id": "89f976e7",
   "metadata": {},
   "outputs": [],
   "source": [
    "noise_factor=0.1\n",
    "x_train_noisy = x_train + noise_factor * np.random.normal(loc=0.0, scale=1.0, size=x_train.shape)#loc=mean,scale=standard deviation\n",
    "x_test_noisy = x_test + noise_factor * np.random.normal(loc=0.0, scale=1.0, size=x_test.shape)"
   ]
  },
  {
   "cell_type": "markdown",
   "id": "cf8e8d51",
   "metadata": {},
   "source": [
    "## Reshaping into one dimension"
   ]
  },
  {
   "cell_type": "code",
   "execution_count": 9,
   "id": "a1cf2cd7",
   "metadata": {},
   "outputs": [],
   "source": [
    "x_train=x_train.reshape(x_train.shape[0],28,28,1)\n",
    "x_test=x_test.reshape(x_test.shape[0],28,28,1)\n",
    "x_train_noisy=x_train_noisy.reshape(x_train_noisy.shape[0],28,28,1)\n",
    "x_test_noisy=x_test_noisy.reshape(x_test_noisy.shape[0],28,28,1)"
   ]
  },
  {
   "cell_type": "markdown",
   "id": "529f0a9c",
   "metadata": {},
   "source": [
    "### Encoder"
   ]
  },
  {
   "cell_type": "code",
   "execution_count": 16,
   "id": "3a94f080",
   "metadata": {},
   "outputs": [],
   "source": [
    "#encoder part\n",
    "encoder_in=Input(shape=x_train.shape[1:])\n",
    "x=Conv2D(32,(3,3),activation='relu',padding = 'same')(encoder_in)\n",
    "x=MaxPool2D(2,2)(x)\n",
    "x=Conv2D(32,(3,3),activation='relu',padding = 'same')(x)\n",
    "encoded=MaxPool2D(2,2)(x)"
   ]
  },
  {
   "cell_type": "markdown",
   "id": "7a8c6819",
   "metadata": {},
   "source": [
    "### Decoder"
   ]
  },
  {
   "cell_type": "code",
   "execution_count": null,
   "id": "537841b5",
   "metadata": {},
   "outputs": [],
   "source": [
    "#decoder part\n",
    "x=Conv2D(32,(3,3),activation='relu',padding = 'same')(encoded)\n",
    "x=UpSampling2D()(x)\n",
    "x=Conv2D(32,(3,3),activation='relu',padding = 'same')(x)\n",
    "x=UpSampling2D()(x)\n",
    "decoded=Conv2D(1,(3,3),activation='sigmoid',padding = 'same')(x)"
   ]
  },
  {
   "cell_type": "markdown",
   "id": "863ac672",
   "metadata": {},
   "source": [
    "## Model Building"
   ]
  },
  {
   "cell_type": "code",
   "execution_count": 18,
   "id": "aef882d9",
   "metadata": {},
   "outputs": [],
   "source": [
    "autoencoder=Model(encoder_in,decoded)"
   ]
  },
  {
   "cell_type": "code",
   "execution_count": 19,
   "id": "a8f80eb6",
   "metadata": {},
   "outputs": [
    {
     "name": "stdout",
     "output_type": "stream",
     "text": [
      "Model: \"model_1\"\n",
      "_________________________________________________________________\n",
      " Layer (type)                Output Shape              Param #   \n",
      "=================================================================\n",
      " input_3 (InputLayer)        [(None, 28, 28, 1)]       0         \n",
      "                                                                 \n",
      " conv2d_10 (Conv2D)          (None, 28, 28, 32)        320       \n",
      "                                                                 \n",
      " max_pooling2d_4 (MaxPooling  (None, 14, 14, 32)       0         \n",
      " 2D)                                                             \n",
      "                                                                 \n",
      " conv2d_11 (Conv2D)          (None, 14, 14, 32)        9248      \n",
      "                                                                 \n",
      " max_pooling2d_5 (MaxPooling  (None, 7, 7, 32)         0         \n",
      " 2D)                                                             \n",
      "                                                                 \n",
      " conv2d_12 (Conv2D)          (None, 7, 7, 32)          9248      \n",
      "                                                                 \n",
      " up_sampling2d_4 (UpSampling  (None, 14, 14, 32)       0         \n",
      " 2D)                                                             \n",
      "                                                                 \n",
      " conv2d_13 (Conv2D)          (None, 14, 14, 32)        9248      \n",
      "                                                                 \n",
      " up_sampling2d_5 (UpSampling  (None, 28, 28, 32)       0         \n",
      " 2D)                                                             \n",
      "                                                                 \n",
      " conv2d_14 (Conv2D)          (None, 28, 28, 1)         289       \n",
      "                                                                 \n",
      "=================================================================\n",
      "Total params: 28,353\n",
      "Trainable params: 28,353\n",
      "Non-trainable params: 0\n",
      "_________________________________________________________________\n"
     ]
    }
   ],
   "source": [
    "autoencoder.summary()"
   ]
  },
  {
   "cell_type": "code",
   "execution_count": 20,
   "id": "e1e72596",
   "metadata": {},
   "outputs": [],
   "source": [
    "autoencoder.compile(loss='binary_crossentropy',optimizer='adam')"
   ]
  },
  {
   "cell_type": "code",
   "execution_count": 21,
   "id": "0d5c9d55",
   "metadata": {
    "scrolled": true
   },
   "outputs": [
    {
     "name": "stdout",
     "output_type": "stream",
     "text": [
      "Epoch 1/15\n",
      "1688/1688 [==============================] - 92s 54ms/step - loss: 0.0918 - val_loss: 0.0746\n",
      "Epoch 2/15\n",
      "1688/1688 [==============================] - 123s 73ms/step - loss: 0.0717 - val_loss: 0.0714\n",
      "Epoch 3/15\n",
      "1688/1688 [==============================] - 110s 65ms/step - loss: 0.0698 - val_loss: 0.0700\n",
      "Epoch 4/15\n",
      "1688/1688 [==============================] - 106s 63ms/step - loss: 0.0688 - val_loss: 0.0689\n",
      "Epoch 5/15\n",
      "1688/1688 [==============================] - 103s 61ms/step - loss: 0.0681 - val_loss: 0.0685\n",
      "Epoch 6/15\n",
      "1688/1688 [==============================] - 113s 67ms/step - loss: 0.0677 - val_loss: 0.0682\n",
      "Epoch 7/15\n",
      "1688/1688 [==============================] - 168s 99ms/step - loss: 0.0674 - val_loss: 0.0678\n",
      "Epoch 8/15\n",
      "1688/1688 [==============================] - 141s 83ms/step - loss: 0.0672 - val_loss: 0.0677\n",
      "Epoch 9/15\n",
      "1688/1688 [==============================] - 171s 102ms/step - loss: 0.0670 - val_loss: 0.0675\n",
      "Epoch 10/15\n",
      "1688/1688 [==============================] - 191s 113ms/step - loss: 0.0668 - val_loss: 0.0673\n",
      "Epoch 11/15\n",
      "1688/1688 [==============================] - 200s 119ms/step - loss: 0.0667 - val_loss: 0.0672\n",
      "Epoch 12/15\n",
      "1688/1688 [==============================] - 187s 111ms/step - loss: 0.0666 - val_loss: 0.0670\n",
      "Epoch 13/15\n",
      "1688/1688 [==============================] - 184s 109ms/step - loss: 0.0665 - val_loss: 0.0671\n",
      "Epoch 14/15\n",
      "1688/1688 [==============================] - 186s 110ms/step - loss: 0.0664 - val_loss: 0.0671\n",
      "Epoch 15/15\n",
      "1688/1688 [==============================] - 179s 106ms/step - loss: 0.0664 - val_loss: 0.0669\n"
     ]
    },
    {
     "data": {
      "text/plain": [
       "<keras.callbacks.History at 0x269b56cc880>"
      ]
     },
     "execution_count": 21,
     "metadata": {},
     "output_type": "execute_result"
    }
   ],
   "source": [
    "autoencoder.fit(x_train_noisy,x_train,epochs=15,validation_split=0.1)"
   ]
  },
  {
   "cell_type": "code",
   "execution_count": 22,
   "id": "2913df75",
   "metadata": {},
   "outputs": [
    {
     "name": "stdout",
     "output_type": "stream",
     "text": [
      "313/313 [==============================] - 9s 28ms/step\n"
     ]
    },
    {
     "data": {
      "text/plain": [
       "array([[[[1.28382635e-06],\n",
       "         [3.55460088e-07],\n",
       "         [1.39615267e-07],\n",
       "         ...,\n",
       "         [5.00181523e-06],\n",
       "         [1.05274376e-06],\n",
       "         [5.93839786e-06]],\n",
       "\n",
       "        [[4.26590674e-07],\n",
       "         [1.14116023e-08],\n",
       "         [1.00055642e-09],\n",
       "         ...,\n",
       "         [6.34882724e-08],\n",
       "         [2.74341660e-09],\n",
       "         [1.59852558e-08]],\n",
       "\n",
       "        [[6.12127178e-06],\n",
       "         [1.46130645e-07],\n",
       "         [4.71342254e-09],\n",
       "         ...,\n",
       "         [2.32101314e-07],\n",
       "         [4.38959002e-09],\n",
       "         [2.15810303e-08]],\n",
       "\n",
       "        ...,\n",
       "\n",
       "        [[2.22518156e-06],\n",
       "         [6.38159463e-08],\n",
       "         [1.55470573e-07],\n",
       "         ...,\n",
       "         [8.51614914e-07],\n",
       "         [4.09316563e-08],\n",
       "         [2.06919083e-07]],\n",
       "\n",
       "        [[1.12628095e-06],\n",
       "         [1.24740955e-08],\n",
       "         [5.71489558e-08],\n",
       "         ...,\n",
       "         [9.13807980e-07],\n",
       "         [1.86529032e-08],\n",
       "         [2.02639583e-07]],\n",
       "\n",
       "        [[1.77711308e-06],\n",
       "         [1.03617257e-08],\n",
       "         [7.95267923e-08],\n",
       "         ...,\n",
       "         [9.83702466e-06],\n",
       "         [4.15508339e-07],\n",
       "         [3.78700383e-06]]],\n",
       "\n",
       "\n",
       "       [[[6.55144368e-06],\n",
       "         [2.42941587e-06],\n",
       "         [1.55136149e-06],\n",
       "         ...,\n",
       "         [1.75850244e-06],\n",
       "         [5.92195249e-07],\n",
       "         [4.10257553e-06]],\n",
       "\n",
       "        [[2.27162627e-06],\n",
       "         [1.61386538e-07],\n",
       "         [6.18915976e-08],\n",
       "         ...,\n",
       "         [3.18481312e-08],\n",
       "         [2.25759433e-09],\n",
       "         [1.03781419e-08]],\n",
       "\n",
       "        [[1.06681591e-05],\n",
       "         [9.05003446e-07],\n",
       "         [2.88042997e-07],\n",
       "         ...,\n",
       "         [1.74317492e-07],\n",
       "         [6.74121736e-09],\n",
       "         [2.19053344e-08]],\n",
       "\n",
       "        ...,\n",
       "\n",
       "        [[2.88886963e-06],\n",
       "         [2.06268460e-08],\n",
       "         [3.64478225e-08],\n",
       "         ...,\n",
       "         [2.77240204e-08],\n",
       "         [3.87462354e-11],\n",
       "         [1.52565391e-10]],\n",
       "\n",
       "        [[8.30591205e-07],\n",
       "         [3.54460195e-09],\n",
       "         [8.83284823e-09],\n",
       "         ...,\n",
       "         [3.29263550e-08],\n",
       "         [1.17796731e-10],\n",
       "         [5.42100698e-10]],\n",
       "\n",
       "        [[1.02431068e-06],\n",
       "         [1.80744519e-09],\n",
       "         [5.55658719e-09],\n",
       "         ...,\n",
       "         [1.91952995e-06],\n",
       "         [2.64425903e-08],\n",
       "         [2.07206000e-07]]],\n",
       "\n",
       "\n",
       "       [[[2.91268793e-06],\n",
       "         [9.22103538e-07],\n",
       "         [2.33907443e-07],\n",
       "         ...,\n",
       "         [1.09409905e-06],\n",
       "         [5.42151326e-07],\n",
       "         [4.11856536e-06]],\n",
       "\n",
       "        [[9.57092880e-07],\n",
       "         [3.50678455e-08],\n",
       "         [5.69285152e-09],\n",
       "         ...,\n",
       "         [1.01051842e-08],\n",
       "         [1.49535551e-09],\n",
       "         [1.09706839e-08]],\n",
       "\n",
       "        [[3.81697191e-06],\n",
       "         [1.59499180e-07],\n",
       "         [4.62002880e-08],\n",
       "         ...,\n",
       "         [5.04308915e-08],\n",
       "         [4.30543512e-09],\n",
       "         [2.48447307e-08]],\n",
       "\n",
       "        ...,\n",
       "\n",
       "        [[2.11109000e-06],\n",
       "         [3.63437600e-08],\n",
       "         [7.30812459e-08],\n",
       "         ...,\n",
       "         [8.44399608e-07],\n",
       "         [2.98366061e-08],\n",
       "         [1.08713294e-07]],\n",
       "\n",
       "        [[1.28457464e-06],\n",
       "         [9.16053011e-09],\n",
       "         [1.78844797e-08],\n",
       "         ...,\n",
       "         [2.44416725e-07],\n",
       "         [6.89897472e-09],\n",
       "         [7.61461223e-08]],\n",
       "\n",
       "        [[2.18854098e-06],\n",
       "         [7.95961164e-09],\n",
       "         [2.11041993e-08],\n",
       "         ...,\n",
       "         [2.23562120e-06],\n",
       "         [1.25953264e-07],\n",
       "         [1.80238931e-06]]],\n",
       "\n",
       "\n",
       "       [[[2.55450345e-06],\n",
       "         [6.67594975e-07],\n",
       "         [1.22699376e-07],\n",
       "         ...,\n",
       "         [1.87070418e-06],\n",
       "         [6.74084049e-07],\n",
       "         [4.99425551e-06]],\n",
       "\n",
       "        [[6.60906153e-07],\n",
       "         [1.82689011e-08],\n",
       "         [2.15737361e-09],\n",
       "         ...,\n",
       "         [2.74525007e-08],\n",
       "         [3.48729245e-09],\n",
       "         [1.75672206e-08]],\n",
       "\n",
       "        [[3.21781181e-06],\n",
       "         [1.07529978e-07],\n",
       "         [2.18999450e-08],\n",
       "         ...,\n",
       "         [1.45703154e-07],\n",
       "         [1.57866715e-08],\n",
       "         [5.49358248e-08]],\n",
       "\n",
       "        ...,\n",
       "\n",
       "        [[1.11812267e-06],\n",
       "         [1.04741922e-08],\n",
       "         [5.43369332e-08],\n",
       "         ...,\n",
       "         [1.84314786e-06],\n",
       "         [8.68165912e-08],\n",
       "         [2.18455071e-07]],\n",
       "\n",
       "        [[6.53849611e-07],\n",
       "         [2.88839397e-09],\n",
       "         [1.64169194e-08],\n",
       "         ...,\n",
       "         [1.15157331e-06],\n",
       "         [3.54086040e-08],\n",
       "         [2.39453499e-07]],\n",
       "\n",
       "        [[1.67791745e-06],\n",
       "         [3.84911925e-09],\n",
       "         [2.17722906e-08],\n",
       "         ...,\n",
       "         [8.18021272e-06],\n",
       "         [5.38564166e-07],\n",
       "         [3.97765416e-06]]],\n",
       "\n",
       "\n",
       "       [[[5.40262590e-06],\n",
       "         [1.42253998e-06],\n",
       "         [1.49855623e-07],\n",
       "         ...,\n",
       "         [5.04500917e-07],\n",
       "         [1.53121107e-06],\n",
       "         [1.73840035e-05]],\n",
       "\n",
       "        [[1.54308805e-06],\n",
       "         [3.97459416e-08],\n",
       "         [1.88184912e-09],\n",
       "         ...,\n",
       "         [1.65211667e-09],\n",
       "         [8.29250357e-09],\n",
       "         [3.64859773e-07]],\n",
       "\n",
       "        [[6.35367633e-06],\n",
       "         [2.32265620e-07],\n",
       "         [2.30628885e-08],\n",
       "         ...,\n",
       "         [1.35003511e-08],\n",
       "         [8.30653235e-08],\n",
       "         [1.70432770e-06]],\n",
       "\n",
       "        ...,\n",
       "\n",
       "        [[5.34941819e-06],\n",
       "         [9.89121034e-08],\n",
       "         [9.84306894e-08],\n",
       "         ...,\n",
       "         [3.76839239e-06],\n",
       "         [9.53126289e-08],\n",
       "         [2.37248145e-07]],\n",
       "\n",
       "        [[3.10735390e-06],\n",
       "         [2.85320407e-08],\n",
       "         [3.53400544e-08],\n",
       "         ...,\n",
       "         [6.17935257e-07],\n",
       "         [2.12861995e-08],\n",
       "         [2.29238481e-07]],\n",
       "\n",
       "        [[4.62280241e-06],\n",
       "         [1.84467055e-08],\n",
       "         [3.23729381e-08],\n",
       "         ...,\n",
       "         [7.49204310e-06],\n",
       "         [6.44923091e-07],\n",
       "         [5.31345586e-06]]]], dtype=float32)"
      ]
     },
     "execution_count": 22,
     "metadata": {},
     "output_type": "execute_result"
    }
   ],
   "source": [
    "pred=autoencoder.predict(x_test_noisy)\n",
    "pred[:5]"
   ]
  },
  {
   "cell_type": "markdown",
   "id": "1e70112e",
   "metadata": {},
   "source": [
    "### Prediction"
   ]
  },
  {
   "cell_type": "code",
   "execution_count": 25,
   "id": "0a8433ca",
   "metadata": {},
   "outputs": [
    {
     "data": {
      "text/plain": [
       "[712, 513, 517]"
      ]
     },
     "execution_count": 25,
     "metadata": {},
     "output_type": "execute_result"
    }
   ],
   "source": [
    "pred_val=[np.argmax(i) for i in pred]\n",
    "pred_val[:3]"
   ]
  },
  {
   "cell_type": "code",
   "execution_count": 26,
   "id": "4393a8f8",
   "metadata": {},
   "outputs": [
    {
     "data": {
      "text/plain": [
       "<matplotlib.image.AxesImage at 0x2698b1bb430>"
      ]
     },
     "execution_count": 26,
     "metadata": {},
     "output_type": "execute_result"
    },
    {
     "data": {
      "image/png": "[encoded data removed]",
      "text/plain": [
       "<Figure size 640x480 with 3 Axes>"
      ]
     },
     "metadata": {},
     "output_type": "display_data"
    }
   ],
   "source": [
    "plt.subplot(3,3,1)\n",
    "plt.imshow(x_test[1],cmap='gray')\n",
    "plt.subplot(3,3,2)\n",
    "plt.imshow(x_test_noisy[1],cmap='gray')\n",
    "plt.subplot(3,3,3)\n",
    "plt.imshow(pred[1],cmap='gray')"
   ]
  },
  {
   "cell_type": "code",
   "execution_count": null,
   "id": "dfd499aa",
   "metadata": {},
   "outputs": [],
   "source": []
  }
 ],
 "metadata": {
  "kernelspec": {
   "display_name": "Python 3 (ipykernel)",
   "language": "python",
   "name": "python3"
  },
  "language_info": {
   "codemirror_mode": {
    "name": "ipython",
    "version": 3
   },
   "file_extension": ".py",
   "mimetype": "text/x-python",
   "name": "python",
   "nbconvert_exporter": "python",
   "pygments_lexer": "ipython3",
   "version": "3.9.13"
  }
 },
 "nbformat": 4,
 "nbformat_minor": 5
}
